{
 "cells": [
  {
   "cell_type": "code",
   "execution_count": 2,
   "metadata": {},
   "outputs": [],
   "source": [
    "import cv2\n",
    "\n",
    "lena = './data/lena.png'"
   ]
  },
  {
   "cell_type": "code",
   "execution_count": null,
   "metadata": {},
   "outputs": [],
   "source": [
    "original1 = cv2.imread(lena, cv2.IMREAD_COLOR) # 1\n",
    "gray = cv2.imread(lena, cv2.IMREAD_COLOR) # 1\n",
    "unchanged = cv2.imread(lena, cv2.IMREAD_COLOR) # 0"
   ]
  }
 ],
 "metadata": {
  "kernelspec": {
   "display_name": "Python 3.9.12 ('clozet')",
   "language": "python",
   "name": "python3"
  },
  "language_info": {
   "codemirror_mode": {
    "name": "ipython",
    "version": 3
   },
   "file_extension": ".py",
   "mimetype": "text/x-python",
   "name": "python",
   "nbconvert_exporter": "python",
   "pygments_lexer": "ipython3",
   "version": "3.9.12"
  },
  "orig_nbformat": 4,
  "vscode": {
   "interpreter": {
    "hash": "54cb41ca6a0bf43f3b5c5ec62c53e4e8b6a619d7aa60e4ce0af20805685ad21b"
   }
  }
 },
 "nbformat": 4,
 "nbformat_minor": 2
}
