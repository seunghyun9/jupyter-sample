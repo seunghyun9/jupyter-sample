{
 "cells": [
  {
   "cell_type": "code",
   "execution_count": 4,
   "metadata": {},
   "outputs": [],
   "source": [
    "import cv2\n",
    "import os\n",
    "boundingbox = './data/haarcascade_frontalcatface.xml'\n",
    "cat = './data/cat.jpg'\n",
    "cascade = cv2.CascadeClassifier(boundingbox)\n"
   ]
  },
  {
   "cell_type": "code",
   "execution_count": 5,
   "metadata": {},
   "outputs": [],
   "source": [
    "def mosaic(img,rect,size):\n",
    "    (x1,y1,x2,y2)=rect\n",
    "    w = x2-x1\n",
    "    h= y2-y1\n",
    "    i_rect=img[y1:y2,x1:x2]\n",
    "    i_small=cv2.resize(i_rect,(size,size))\n",
    "    i_mos = cv2.resize(i_small,(w,h),interpolation=cv2.INTER_AREA)\n",
    "    img2=img.copy()\n",
    "    img2[y1:y2,x1:x2]= i_mos\n",
    "    return img2\n"
   ]
  },
  {
   "cell_type": "code",
   "execution_count": 6,
   "metadata": {},
   "outputs": [
    {
     "data": {
      "text/plain": [
       "True"
      ]
     },
     "execution_count": 6,
     "metadata": {},
     "output_type": "execute_result"
    }
   ],
   "source": [
    "img = cv2.imread(cat,cv2.IMREAD_COLOR)\n",
    "rect = (50,50,450,450)\n",
    "size =10\n",
    "mos = mosaic(img,rect,size)\n",
    "cv2.imwrite('cat-mosaic.png',mos)"
   ]
  }
 ],
 "metadata": {
  "kernelspec": {
   "display_name": "Python 3.9.12 ('clozet')",
   "language": "python",
   "name": "python3"
  },
  "language_info": {
   "codemirror_mode": {
    "name": "ipython",
    "version": 3
   },
   "file_extension": ".py",
   "mimetype": "text/x-python",
   "name": "python",
   "nbconvert_exporter": "python",
   "pygments_lexer": "ipython3",
   "version": "3.9.12"
  },
  "orig_nbformat": 4,
  "vscode": {
   "interpreter": {
    "hash": "54cb41ca6a0bf43f3b5c5ec62c53e4e8b6a619d7aa60e4ce0af20805685ad21b"
   }
  }
 },
 "nbformat": 4,
 "nbformat_minor": 2
}
