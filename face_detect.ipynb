{
 "cells": [
  {
   "cell_type": "code",
   "execution_count": null,
   "metadata": {},
   "outputs": [
    {
     "name": "stdout",
     "output_type": "stream",
     "text": [
      "Version:  2.7.0\n",
      "Eager mode:  True\n",
      "Hub version:  0.12.0\n",
      "GPU is available\n"
     ]
    }
   ],
   "source": [
    "import os\n",
    "import numpy as np\n",
    "\n",
    "import tensorflow as tf\n",
    "import tensorflow_hub as hub\n",
    "import tensorflow_datasets as tfds\n",
    "\n",
    "print(\"Version: \", tf.__version__)\n",
    "print(\"Eager mode: \", tf.executing_eagerly())\n",
    "print(\"Hub version: \", hub.__version__)\n",
    "print(\"GPU is\", \"available\" if tf.config.list_physical_devices(\"GPU\") else \"NOT AVAILABLE\")"
   ]
  },
  {
   "cell_type": "code",
   "execution_count": 1,
   "metadata": {},
   "outputs": [],
   "source": [
    "import cv2\n",
    "boundingbox = './data/haarcascade_frontalface_alt.xml'\n",
    "girl = './data/girl.jpg'\n",
    "cascade = cv2.CascadeClassifier(boundingbox)\n"
   ]
  },
  {
   "cell_type": "code",
   "execution_count": 2,
   "metadata": {},
   "outputs": [],
   "source": [
    "img = cv2.imread(girl)\n",
    "face = cascade.detectMultiScale(img,minSize=(150,15))\n"
   ]
  },
  {
   "cell_type": "code",
   "execution_count": 3,
   "metadata": {},
   "outputs": [
    {
     "name": "stdout",
     "output_type": "stream",
     "text": [
      "얼굴의 좌표 319 308 405 405\n"
     ]
    }
   ],
   "source": [
    "if len(face)==0:\n",
    "    print('얼굴인식실패')\n",
    "    quit()\n",
    "for(x,y,w,h) in face:\n",
    "    print('얼굴의 좌표',x,y,w,h)\n",
    "    red = (0,0,255)\n",
    "    cv2.rectangle(img,(x,y),(x+w,y+h),red,thickness=20)"
   ]
  },
  {
   "cell_type": "code",
   "execution_count": 4,
   "metadata": {},
   "outputs": [
    {
     "data": {
      "text/plain": [
       "True"
      ]
     },
     "execution_count": 4,
     "metadata": {},
     "output_type": "execute_result"
    }
   ],
   "source": [
    "cv2.imwrite('girl-face.png',img)\n"
   ]
  },
  {
   "cell_type": "code",
   "execution_count": 5,
   "metadata": {},
   "outputs": [],
   "source": [
    "cv2.imshow('girl-face.png',img)\n",
    "cv2.waitKey(0)\n",
    "cv2.destroyAllWindows()\n"
   ]
  },
  {
   "cell_type": "code",
   "execution_count": 12,
   "metadata": {},
   "outputs": [],
   "source": [
    "def mosaic(img,rect,size):\n",
    "    (x1,y1,x2,y2)=rect\n",
    "    w = x2-x1\n",
    "    h= y2-y1\n",
    "    i_rect=img[y1:y2,x1:x2]\n",
    "    i_small=cv2.resize(i_rect,(size,size))\n",
    "    i_mos = cv2.resize(i_small,(w,h),interpolation=cv2.INTER_AREA)\n",
    "    img2=img.copy()\n",
    "    img2[y1:y2,x1:x2]= i_mos\n",
    "    return img2\n",
    "\n"
   ]
  },
  {
   "cell_type": "code",
   "execution_count": 13,
   "metadata": {},
   "outputs": [
    {
     "data": {
      "text/plain": [
       "True"
      ]
     },
     "execution_count": 13,
     "metadata": {},
     "output_type": "execute_result"
    }
   ],
   "source": [
    "for(x,y,w,h) in face:\n",
    "    rect = (x, y, x+w, y+h)\n",
    "    size = 10\n",
    "    img_mosaic = mosaic(img, rect, size)\n",
    "cv2.imwrite('girl-mosaic.png',img_mosaic)"
   ]
  },
  {
   "cell_type": "code",
   "execution_count": null,
   "metadata": {},
   "outputs": [],
   "source": [
    "\n",
    "cv2.imshow('girl-mosaic',img_mosaic)\n",
    "cv2.waitKey(0)\n",
    "cv2.destroyAllWindows()"
   ]
  }
 ],
 "metadata": {
  "kernelspec": {
   "display_name": "Python 3.9.12 ('clozet')",
   "language": "python",
   "name": "python3"
  },
  "language_info": {
   "codemirror_mode": {
    "name": "ipython",
    "version": 3
   },
   "file_extension": ".py",
   "mimetype": "text/x-python",
   "name": "python",
   "nbconvert_exporter": "python",
   "pygments_lexer": "ipython3",
   "version": "3.9.12"
  },
  "orig_nbformat": 4,
  "vscode": {
   "interpreter": {
    "hash": "54cb41ca6a0bf43f3b5c5ec62c53e4e8b6a619d7aa60e4ce0af20805685ad21b"
   }
  }
 },
 "nbformat": 4,
 "nbformat_minor": 2
}
