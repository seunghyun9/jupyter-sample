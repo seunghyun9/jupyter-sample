{
 "cells": [
  {
   "cell_type": "code",
   "execution_count": 4,
   "id": "05bd888c",
   "metadata": {},
   "outputs": [
    {
     "name": "stdout",
     "output_type": "stream",
     "text": [
      "hello\n"
     ]
    }
   ],
   "source": [
    "print('hello')"
   ]
  },
  {
   "cell_type": "code",
   "execution_count": 3,
   "id": "8a38f7fe",
   "metadata": {},
   "outputs": [
    {
     "name": "stdout",
     "output_type": "stream",
     "text": [
      "왜 안돼\n"
     ]
    }
   ],
   "source": [
    "print(\"왜 안돼\")"
   ]
  }
 ],
 "metadata": {
  "kernelspec": {
   "display_name": "Python 3.9.7 64-bit",
   "language": "python",
   "name": "python3"
  },
  "language_info": {
   "codemirror_mode": {
    "name": "ipython",
    "version": 3
   },
   "file_extension": ".py",
   "mimetype": "text/x-python",
   "name": "python",
   "nbconvert_exporter": "python",
   "pygments_lexer": "ipython3",
   "version": "3.9.7"
  },
  "vscode": {
   "interpreter": {
    "hash": "ebe3d414131e6c1ce3ce97a8986cd134395cc04b4ca9d85fd5894a0a8e37077c"
   }
  }
 },
 "nbformat": 4,
 "nbformat_minor": 5
}
